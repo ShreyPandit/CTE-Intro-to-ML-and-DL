{
  "nbformat": 4,
  "nbformat_minor": 0,
  "metadata": {
    "colab": {
      "name": "CTE_Week1_lec2.ipynb",
      "provenance": [],
      "include_colab_link": true
    },
    "kernelspec": {
      "display_name": "Python 3",
      "language": "python",
      "name": "python3"
    },
    "language_info": {
      "codemirror_mode": {
        "name": "ipython",
        "version": 3
      },
      "file_extension": ".py",
      "mimetype": "text/x-python",
      "name": "python",
      "nbconvert_exporter": "python",
      "pygments_lexer": "ipython3",
      "version": "3.6.8"
    }
  },
  "cells": [
    {
      "cell_type": "markdown",
      "metadata": {
        "id": "view-in-github",
        "colab_type": "text"
      },
      "source": [
        "<a href=\"https://colab.research.google.com/github/ShreyPandit/CTE-Intro-to-ML-and-DL/blob/main/Week_01/CTE_Week1_lec2.ipynb\" target=\"_parent\"><img src=\"https://colab.research.google.com/assets/colab-badge.svg\" alt=\"Open In Colab\"/></a>"
      ]
    },
    {
      "cell_type": "markdown",
      "metadata": {
        "id": "Y4EH1E4_rL4g"
      },
      "source": [
        "# The Python3 Programming Language"
      ]
    },
    {
      "cell_type": "markdown",
      "metadata": {
        "id": "2vHUhrz4W4C0"
      },
      "source": [
        "Note: String Slicing was not covered in the lectures. Please go through the code below. In case of doubts in the code - 1) Try Googling (2)Feel free to dm one of us for further clarifications."
      ]
    },
    {
      "cell_type": "code",
      "metadata": {
        "id": "bmpkpZnkd1P0",
        "colab": {
          "base_uri": "https://localhost:8080/"
        },
        "outputId": "912de161-978f-44fc-967f-7aca68e73025"
      },
      "source": [
        "#running in collab\n",
        "1+2\n"
      ],
      "execution_count": null,
      "outputs": [
        {
          "output_type": "execute_result",
          "data": {
            "text/plain": [
              "3"
            ]
          },
          "metadata": {
            "tags": []
          },
          "execution_count": 96
        }
      ]
    },
    {
      "cell_type": "code",
      "metadata": {
        "id": "uolGEP0wd1bA",
        "colab": {
          "base_uri": "https://localhost:8080/"
        },
        "outputId": "b920cd42-a3b7-4a17-f843-8da8fc890d06"
      },
      "source": [
        "#print statements\n",
        "print(\"hello\")\n",
        "print(1+2)\n"
      ],
      "execution_count": null,
      "outputs": [
        {
          "output_type": "stream",
          "text": [
            "hello\n",
            "3\n"
          ],
          "name": "stdout"
        }
      ]
    },
    {
      "cell_type": "markdown",
      "metadata": {
        "id": "5xlfZY2VrL4h"
      },
      "source": [
        "## Some programming background and Languages"
      ]
    },
    {
      "cell_type": "code",
      "metadata": {
        "colab": {
          "base_uri": "https://localhost:8080/"
        },
        "id": "UVKUYpVTrL4i",
        "outputId": "1df76ce7-b726-4a02-eff1-968e25a70cd2"
      },
      "source": [
        "x = 1\n",
        "y = 2\n",
        "print(\"sum of x & y = \",x + y,  )\n",
        "print(\"product of x & y = \",x * y)\n",
        "print(\"Divide x by y = \",x / y)\n",
        "print(\"Integert Divide x by y = \",x// y)\n",
        "print(\"x to the power of y = \",x**y)"
      ],
      "execution_count": null,
      "outputs": [
        {
          "output_type": "stream",
          "text": [
            "sum of x & y =  3\n",
            "product of x & y =  2\n",
            "Divide x by y =  0.5\n",
            "Integert Divide x by y =  0\n",
            "x to the power of y =  1\n"
          ],
          "name": "stdout"
        }
      ]
    },
    {
      "cell_type": "code",
      "metadata": {
        "colab": {
          "base_uri": "https://localhost:8080/"
        },
        "id": "lwzCg2dm_CyW",
        "outputId": "4093ffbb-b843-406f-8a6b-f061717c4954"
      },
      "source": [
        "print(5//2)"
      ],
      "execution_count": null,
      "outputs": [
        {
          "output_type": "stream",
          "text": [
            "2\n"
          ],
          "name": "stdout"
        }
      ]
    },
    {
      "cell_type": "markdown",
      "metadata": {
        "id": "IULDQQI7rL4o"
      },
      "source": [
        "## Functions"
      ]
    },
    {
      "cell_type": "code",
      "metadata": {
        "id": "cy8OFFNZrL4p",
        "colab": {
          "base_uri": "https://localhost:8080/"
        },
        "outputId": "e050f3cd-dc15-4773-9c3e-cc57370e784f"
      },
      "source": [
        "def add_numbers(x, y):\n",
        "    return x + y\n",
        "\n",
        "add_numbers(1, 2)"
      ],
      "execution_count": null,
      "outputs": [
        {
          "output_type": "execute_result",
          "data": {
            "text/plain": [
              "3"
            ]
          },
          "metadata": {
            "tags": []
          },
          "execution_count": 60
        }
      ]
    },
    {
      "cell_type": "code",
      "metadata": {
        "id": "A9PVEMHIrL4t",
        "colab": {
          "base_uri": "https://localhost:8080/"
        },
        "outputId": "d3a3c318-da9a-4824-e679-7da4ccb2565c"
      },
      "source": [
        "def add_numbers(x, y):\n",
        "    return x + y\n",
        "\n",
        "k = add_numbers(1, 2) #the output of function is what is in front of return statement\n",
        "k"
      ],
      "execution_count": null,
      "outputs": [
        {
          "output_type": "execute_result",
          "data": {
            "text/plain": [
              "3"
            ]
          },
          "metadata": {
            "tags": []
          },
          "execution_count": 61
        }
      ]
    },
    {
      "cell_type": "markdown",
      "metadata": {
        "id": "PeV8CSmXrL4x"
      },
      "source": [
        "<br>\n",
        "`add_numbers` updated to take an optional 3rd parameter. Using `print` allows printing of multiple expressions within a single cell."
      ]
    },
    {
      "cell_type": "code",
      "metadata": {
        "id": "ViVwnTLgrL4y",
        "colab": {
          "base_uri": "https://localhost:8080/"
        },
        "outputId": "6fac1856-345e-4a5c-d036-8b114d98d399"
      },
      "source": [
        "def add_numbers(x,y,z=None):\n",
        "    if (z==None):\n",
        "        return x+y\n",
        "    else:\n",
        "        return x+y+z\n",
        "\n",
        "print(add_numbers(1, 2))\n",
        "print(add_numbers(1, 2, 3))"
      ],
      "execution_count": null,
      "outputs": [
        {
          "output_type": "stream",
          "text": [
            "3\n",
            "6\n"
          ],
          "name": "stdout"
        }
      ]
    },
    {
      "cell_type": "markdown",
      "metadata": {
        "id": "LglyqFGIrL41"
      },
      "source": [
        "<br>\n",
        "`add_numbers` updated to take an optional flag parameter."
      ]
    },
    {
      "cell_type": "code",
      "metadata": {
        "id": "YY4YWWO-rL42"
      },
      "source": [
        "def add_numbers(x, y, z=None, flag=False):\n",
        "    if (flag): #if statements , elif , and else statements\n",
        "        print('Flag is true!')\n",
        "    if (z==None):\n",
        "        return x + y\n",
        "    else:\n",
        "        return x + y + z\n",
        "    \n",
        "print(add_numbers(1, 2, flag=True)) #or be called as\n",
        "print(\"=======\")\n",
        "print(add_numbers(1, 2, None, True)) #or be called as\n",
        "print(\"=======\")\n",
        "print(add_numbers(1, 2, flag = True, z = None))\n"
      ],
      "execution_count": null,
      "outputs": []
    },
    {
      "cell_type": "markdown",
      "metadata": {
        "id": "HyjvjNODrL45"
      },
      "source": [
        "<br>\n",
        "Keyword arguments only after Non_Keyword arguements. ( Default arguments should follow non default )"
      ]
    },
    {
      "cell_type": "code",
      "metadata": {
        "id": "P7oCD93nrL46"
      },
      "source": [
        "def add_numbers(x, z=None,y, flag=False): #Throws error.\n",
        "    if (flag):\n",
        "        print('Flag is true!')\n",
        "    if (z==None):\n",
        "        return x + y\n",
        "    else:\n",
        "        return x + y + z"
      ],
      "execution_count": null,
      "outputs": []
    },
    {
      "cell_type": "markdown",
      "metadata": {
        "id": "ebS8JWD5gCGY"
      },
      "source": [
        "Why?\n"
      ]
    },
    {
      "cell_type": "code",
      "metadata": {
        "id": "hYwW0_48gEI7",
        "colab": {
          "base_uri": "https://localhost:8080/",
          "height": 128
        },
        "outputId": "9318ca49-e1c6-4ae8-ad02-9cedad6aff33"
      },
      "source": [
        "def fun1(a=\"who is you\", b=\"True\", x, y):\n",
        "  print (a,b,x,y)\n",
        "\n",
        "func1(\"ok a\", \"ok b\", 1)  # Is 1 assigned to x or ?\n",
        "func1(1)                  # Is 1 assigned to a or ? This is the reason why Default args should follow non-default. \n",
        "func1(1, 2)    "
      ],
      "execution_count": null,
      "outputs": [
        {
          "output_type": "error",
          "ename": "SyntaxError",
          "evalue": "ignored",
          "traceback": [
            "\u001b[0;36m  File \u001b[0;32m\"<ipython-input-67-da9a3de02d85>\"\u001b[0;36m, line \u001b[0;32m1\u001b[0m\n\u001b[0;31m    def fun1(a=\"who is you\", b=\"True\", x, y):\u001b[0m\n\u001b[0m            ^\u001b[0m\n\u001b[0;31mSyntaxError\u001b[0m\u001b[0;31m:\u001b[0m non-default argument follows default argument\n"
          ]
        }
      ]
    },
    {
      "cell_type": "markdown",
      "metadata": {
        "id": "TFW8B_uWrL49"
      },
      "source": [
        "<br>\n",
        "Assign function `add_numbers` to variable `a`."
      ]
    },
    {
      "cell_type": "code",
      "metadata": {
        "id": "pe7_WoW2rL4-"
      },
      "source": [
        "def add_numbers(x,y):\n",
        "    return x+y\n",
        "\n",
        "a = add_numbers #Assigned the function ,but not called\n",
        "a(1,2) #Now called"
      ],
      "execution_count": null,
      "outputs": []
    },
    {
      "cell_type": "markdown",
      "metadata": {
        "id": "H2k2R6iErL5B"
      },
      "source": [
        "<br>\n",
        "Any number of non-keyword arguements to `add_numbers`"
      ]
    },
    {
      "cell_type": "code",
      "metadata": {
        "id": "S1JqL1TprL5C"
      },
      "source": [
        "def add_number(*args):\n",
        "    summer = 0\n",
        "    #print(type(args))\n",
        "    for elems in args:\n",
        "        summer = summer + elems\n",
        "    return summer\n",
        "print(add_number(1,2,3,4,5))"
      ],
      "execution_count": null,
      "outputs": []
    },
    {
      "cell_type": "markdown",
      "metadata": {
        "id": "2oWB_msFrL5H"
      },
      "source": [
        "<br>\n",
        "Similarly any number of keyword arguements to `add_numbers` but most follow non_keyword arguments (Note there can be only keyword arguements)"
      ]
    },
    {
      "cell_type": "code",
      "metadata": {
        "id": "5mXFV48LrL5K"
      },
      "source": [
        "def add_number(*args, **kwargs):\n",
        "    summer1 = 0\n",
        "    summer2 = 0\n",
        "    print(type(args)) #A tuple will come back later\n",
        "    print(type(kwargs)) # A dict will come back later\n",
        "    for elems in args:\n",
        "        summer1 = summer1 + elems\n",
        "    for items in kwargs:\n",
        "        summer2 = summer2 + kwargs[items]\n",
        "    return summer1, summer2\n",
        "print(add_number(a=2, b=3, c=3)) #Returning a tuple"
      ],
      "execution_count": null,
      "outputs": []
    },
    {
      "cell_type": "code",
      "metadata": {
        "id": "5tlEzPPT4DlY"
      },
      "source": [
        "def my_function(*kids):\n",
        "  print(\"The youngest child is \" + kids[2])\n",
        "\n",
        "my_function(\"Emil\", \"Tobias\", \"Linus\")"
      ],
      "execution_count": null,
      "outputs": []
    },
    {
      "cell_type": "code",
      "metadata": {
        "id": "o4okSv0539i1"
      },
      "source": [
        "def my_function(**kid):\n",
        "  print(\"His last name is \" + kid[\"lname\"])\n",
        "\n",
        "my_function(fname = \"Tobias\", lname = \"Refsnes\")\n"
      ],
      "execution_count": null,
      "outputs": []
    },
    {
      "cell_type": "markdown",
      "metadata": {
        "id": "J-01Nd6BrL5O"
      },
      "source": [
        "**The Python Programming Language: Types and Sequences**"
      ]
    },
    {
      "cell_type": "markdown",
      "metadata": {
        "id": "BeYJE9SdrL5P"
      },
      "source": [
        "<br>\n",
        "Use `type` to return the object's type."
      ]
    },
    {
      "cell_type": "markdown",
      "metadata": {
        "id": "k-ea77fJrL5Q"
      },
      "source": [
        "### String : Collection of Characters, Characters are stored as integers (Python Uses Unicode to store strings)"
      ]
    },
    {
      "cell_type": "code",
      "metadata": {
        "colab": {
          "base_uri": "https://localhost:8080/"
        },
        "id": "dM9YdjKhBuQi",
        "outputId": "b0e2e741-7c74-429f-edfe-9e553cd891b0"
      },
      "source": [
        "a=\"hello\"\n",
        "print(type(a))"
      ],
      "execution_count": null,
      "outputs": [
        {
          "output_type": "stream",
          "text": [
            "<class 'str'>\n"
          ],
          "name": "stdout"
        }
      ]
    },
    {
      "cell_type": "code",
      "metadata": {
        "id": "vypMV77_rL5R",
        "colab": {
          "base_uri": "https://localhost:8080/"
        },
        "outputId": "7b87e087-7149-4a52-dc88-36a39e45b825"
      },
      "source": [
        "type('This is a string') "
      ],
      "execution_count": null,
      "outputs": [
        {
          "output_type": "execute_result",
          "data": {
            "text/plain": [
              "str"
            ]
          },
          "metadata": {
            "tags": []
          },
          "execution_count": 70
        }
      ]
    },
    {
      "cell_type": "code",
      "metadata": {
        "id": "qJlOkFbZrL5V",
        "colab": {
          "base_uri": "https://localhost:8080/"
        },
        "outputId": "1bd93e34-0c5b-4565-b0d9-90a026ee98e3"
      },
      "source": [
        "ord('A') #UTF-8 / Ascii value of character A. Read further on ascii and utf-8"
      ],
      "execution_count": null,
      "outputs": [
        {
          "output_type": "execute_result",
          "data": {
            "text/plain": [
              "65"
            ]
          },
          "metadata": {
            "tags": []
          },
          "execution_count": 71
        }
      ]
    },
    {
      "cell_type": "code",
      "metadata": {
        "id": "yknxA9gvrL5a",
        "colab": {
          "base_uri": "https://localhost:8080/"
        },
        "outputId": "c46cce5d-74c5-4897-b1e1-ea758af0fb7b"
      },
      "source": [
        "type(None)"
      ],
      "execution_count": null,
      "outputs": [
        {
          "output_type": "execute_result",
          "data": {
            "text/plain": [
              "NoneType"
            ]
          },
          "metadata": {
            "tags": []
          },
          "execution_count": 16
        }
      ]
    },
    {
      "cell_type": "code",
      "metadata": {
        "id": "6lwKz0yKrL5e",
        "colab": {
          "base_uri": "https://localhost:8080/"
        },
        "outputId": "f164112a-2914-48e2-c458-2e1f8a2cfadc"
      },
      "source": [
        "type(1)"
      ],
      "execution_count": null,
      "outputs": [
        {
          "output_type": "execute_result",
          "data": {
            "text/plain": [
              "int"
            ]
          },
          "metadata": {
            "tags": []
          },
          "execution_count": 72
        }
      ]
    },
    {
      "cell_type": "code",
      "metadata": {
        "id": "fDgz9pfgrL5i",
        "colab": {
          "base_uri": "https://localhost:8080/"
        },
        "outputId": "55fe1c14-b01d-44e9-d39f-189a815211f7"
      },
      "source": [
        "type(1.0)"
      ],
      "execution_count": null,
      "outputs": [
        {
          "output_type": "execute_result",
          "data": {
            "text/plain": [
              "float"
            ]
          },
          "metadata": {
            "tags": []
          },
          "execution_count": 73
        }
      ]
    },
    {
      "cell_type": "code",
      "metadata": {
        "id": "dbbBzVrkrL5l",
        "colab": {
          "base_uri": "https://localhost:8080/"
        },
        "outputId": "d8f3e24c-d84a-44e7-f453-e218b865c0a5"
      },
      "source": [
        "type(add_numbers)"
      ],
      "execution_count": null,
      "outputs": [
        {
          "output_type": "execute_result",
          "data": {
            "text/plain": [
              "function"
            ]
          },
          "metadata": {
            "tags": []
          },
          "execution_count": 74
        }
      ]
    },
    {
      "cell_type": "markdown",
      "metadata": {
        "id": "NEvzKjojrL5p"
      },
      "source": [
        "<br>\n",
        "``Tuples`` are collection of Python data types(int,char,str,float).\n",
        "No alteration allowed ( IMMUTABLE ).\n",
        "Useful for things you want to remain unchanged throughout code."
      ]
    },
    {
      "cell_type": "code",
      "metadata": {
        "id": "r4IubYZ0Cj-a"
      },
      "source": [
        ""
      ],
      "execution_count": null,
      "outputs": []
    },
    {
      "cell_type": "code",
      "metadata": {
        "colab": {
          "base_uri": "https://localhost:8080/"
        },
        "id": "eHmICLvfCOSI",
        "outputId": "7d053d48-1fc4-47a2-f91f-31623a37d28e"
      },
      "source": [
        "z=(1,\"a\")\n",
        "print(type(z))"
      ],
      "execution_count": null,
      "outputs": [
        {
          "output_type": "stream",
          "text": [
            "<class 'tuple'>\n"
          ],
          "name": "stdout"
        }
      ]
    },
    {
      "cell_type": "code",
      "metadata": {
        "id": "a7Vm_IVgrL5q",
        "colab": {
          "base_uri": "https://localhost:8080/"
        },
        "outputId": "5759d6c3-c3ba-40da-8e49-1fbf4ddbd616"
      },
      "source": [
        "x = (1, 'a', 2, 'b') #initiated by ()\n",
        "type(x)"
      ],
      "execution_count": null,
      "outputs": [
        {
          "output_type": "execute_result",
          "data": {
            "text/plain": [
              "tuple"
            ]
          },
          "metadata": {
            "tags": []
          },
          "execution_count": 20
        }
      ]
    },
    {
      "cell_type": "code",
      "metadata": {
        "id": "IMsApmDerL5v",
        "colab": {
          "base_uri": "https://localhost:8080/"
        },
        "outputId": "47fa1259-8d77-4666-cd04-e3db144b6419"
      },
      "source": [
        "print(id(x)) #To check uniqueness\n",
        "y = x\n",
        "print(id(y))"
      ],
      "execution_count": null,
      "outputs": [
        {
          "output_type": "stream",
          "text": [
            "140125374833432\n",
            "140125374833432\n"
          ],
          "name": "stdout"
        }
      ]
    },
    {
      "cell_type": "code",
      "metadata": {
        "id": "Mm7zVHdShFoc"
      },
      "source": [
        ""
      ],
      "execution_count": null,
      "outputs": []
    },
    {
      "cell_type": "markdown",
      "metadata": {
        "id": "kJ_m0tBgrL50"
      },
      "source": [
        "<br>\n",
        "``Lists`` on the other hand are the alterable version on ``Tuples``.Super-Powerful alterations though"
      ]
    },
    {
      "cell_type": "code",
      "metadata": {
        "id": "KwbMVhzerL51",
        "colab": {
          "base_uri": "https://localhost:8080/"
        },
        "outputId": "0f8ec014-7ce0-4025-ab9c-b9a17d84e84c"
      },
      "source": [
        "x = [1, 'a', 2, 'b'] #[]\n",
        "type(x)"
      ],
      "execution_count": null,
      "outputs": [
        {
          "output_type": "execute_result",
          "data": {
            "text/plain": [
              "list"
            ]
          },
          "metadata": {
            "tags": []
          },
          "execution_count": 82
        }
      ]
    },
    {
      "cell_type": "code",
      "metadata": {
        "colab": {
          "base_uri": "https://localhost:8080/"
        },
        "id": "oIpvDG9DDNi2",
        "outputId": "b16ef9e8-b871-4472-b733-6324f111cadd"
      },
      "source": [
        "print(id(x))\n",
        "x.append('c')\n",
        "print(id(x))"
      ],
      "execution_count": null,
      "outputs": [
        {
          "output_type": "stream",
          "text": [
            "140125242345992\n",
            "140125242345992\n"
          ],
          "name": "stdout"
        }
      ]
    },
    {
      "cell_type": "code",
      "metadata": {
        "colab": {
          "base_uri": "https://localhost:8080/",
          "height": 35
        },
        "id": "0kZjxn6-DCr2",
        "outputId": "98cacf61-9c95-42b2-9e37-4b24bca52438"
      },
      "source": [
        "x[3]"
      ],
      "execution_count": null,
      "outputs": [
        {
          "output_type": "execute_result",
          "data": {
            "application/vnd.google.colaboratory.intrinsic+json": {
              "type": "string"
            },
            "text/plain": [
              "'b'"
            ]
          },
          "metadata": {
            "tags": []
          },
          "execution_count": 78
        }
      ]
    },
    {
      "cell_type": "code",
      "metadata": {
        "id": "eieBcWSHrL55"
      },
      "source": [
        "y = x #Creates a reference to x"
      ],
      "execution_count": null,
      "outputs": []
    },
    {
      "cell_type": "code",
      "metadata": {
        "id": "jozulpzHrL58",
        "colab": {
          "base_uri": "https://localhost:8080/"
        },
        "outputId": "095c799f-a619-46a0-b305-dd1b8ba5ae6c"
      },
      "source": [
        "print(id(x))\n",
        "print(id(y))"
      ],
      "execution_count": null,
      "outputs": [
        {
          "output_type": "stream",
          "text": [
            "140125374994056\n",
            "140125374994056\n"
          ],
          "name": "stdout"
        }
      ]
    },
    {
      "cell_type": "markdown",
      "metadata": {
        "id": "uKh4FvSnrL5_"
      },
      "source": [
        "<br>\n",
        "Use `append` to append an object to a list."
      ]
    },
    {
      "cell_type": "code",
      "metadata": {
        "id": "cfWyaCYTrL6A",
        "colab": {
          "base_uri": "https://localhost:8080/"
        },
        "outputId": "ffab36c8-c71e-4374-b33f-b57f4d4017d8"
      },
      "source": [
        "print(x.append(3.3)) #Is append is a function that changes x in memory but returns None\n",
        "print(x)"
      ],
      "execution_count": null,
      "outputs": [
        {
          "output_type": "stream",
          "text": [
            "None\n",
            "[1, 'a', 2, 'b', 3.3]\n"
          ],
          "name": "stdout"
        }
      ]
    },
    {
      "cell_type": "markdown",
      "metadata": {
        "id": "HEMbCf1khrE8"
      },
      "source": [
        "DICTIONARY-\n",
        "1) Unordered - stored not in the same way data is added\n",
        " (2)Key - Value Data structure\n",
        "  (3)Dictionary keys are unique"
      ]
    },
    {
      "cell_type": "code",
      "metadata": {
        "colab": {
          "base_uri": "https://localhost:8080/"
        },
        "id": "YOfxDTe1hvMr",
        "outputId": "64f52efd-dd3c-4865-f861-b28718792ee3"
      },
      "source": [
        "dict = { 1:\"apple\" ,2:\"mango\" , 3:\"strawberry\"}\n",
        "print(type(dict))"
      ],
      "execution_count": null,
      "outputs": [
        {
          "output_type": "stream",
          "text": [
            "<class 'dict'>\n"
          ],
          "name": "stdout"
        }
      ]
    },
    {
      "cell_type": "code",
      "metadata": {
        "colab": {
          "base_uri": "https://localhost:8080/"
        },
        "id": "9BNPe7kRhvlb",
        "outputId": "64ed0051-0567-4825-a9fc-aa0092582b25"
      },
      "source": [
        "dict.keys()"
      ],
      "execution_count": null,
      "outputs": [
        {
          "output_type": "execute_result",
          "data": {
            "text/plain": [
              "dict_keys([1, 2, 3])"
            ]
          },
          "metadata": {
            "tags": []
          },
          "execution_count": 89
        }
      ]
    },
    {
      "cell_type": "code",
      "metadata": {
        "id": "0f8NsAPREUq3"
      },
      "source": [
        "#dict[key]=value"
      ],
      "execution_count": null,
      "outputs": []
    },
    {
      "cell_type": "code",
      "metadata": {
        "colab": {
          "base_uri": "https://localhost:8080/"
        },
        "id": "jOMAxo-lhvoR",
        "outputId": "65dfd50d-1541-4015-c1e0-144dbc71a08a"
      },
      "source": [
        "dict[4]=\"green apple\"\n",
        "print(dict)"
      ],
      "execution_count": null,
      "outputs": [
        {
          "output_type": "stream",
          "text": [
            "{1: 'apple', 2: 'mango', 3: 'strawberry', 4: 'green apple'}\n"
          ],
          "name": "stdout"
        }
      ]
    },
    {
      "cell_type": "code",
      "metadata": {
        "colab": {
          "base_uri": "https://localhost:8080/"
        },
        "id": "15iMIx0Ghvq3",
        "outputId": "2d4e8a72-6462-454f-a55b-418a9342f13d"
      },
      "source": [
        "dict.values()"
      ],
      "execution_count": null,
      "outputs": [
        {
          "output_type": "execute_result",
          "data": {
            "text/plain": [
              "dict_values(['apple', 'mango', 'strawberry', 'green apple'])"
            ]
          },
          "metadata": {
            "tags": []
          },
          "execution_count": 32
        }
      ]
    },
    {
      "cell_type": "code",
      "metadata": {
        "colab": {
          "base_uri": "https://localhost:8080/"
        },
        "id": "egR_unjIkA0p",
        "outputId": "d11fd08c-1316-476d-d692-a393cc02ba81"
      },
      "source": [
        "dict.items()"
      ],
      "execution_count": null,
      "outputs": [
        {
          "output_type": "execute_result",
          "data": {
            "text/plain": [
              "dict_items([(1, 'apple'), (2, 'mango'), (3, 'strawberry'), (4, 'green apple')])"
            ]
          },
          "metadata": {
            "tags": []
          },
          "execution_count": 36
        }
      ]
    },
    {
      "cell_type": "code",
      "metadata": {
        "id": "HD2SVdA2kIlb"
      },
      "source": [
        "dict[\"t\"]=5"
      ],
      "execution_count": null,
      "outputs": []
    },
    {
      "cell_type": "code",
      "metadata": {
        "colab": {
          "base_uri": "https://localhost:8080/"
        },
        "id": "MgWcscecjzPW",
        "outputId": "0ac30727-eb5f-4597-b1c2-b5833e87f8d4"
      },
      "source": [
        "for k,v in dict.items():\n",
        "    print (k,v)"
      ],
      "execution_count": null,
      "outputs": [
        {
          "output_type": "stream",
          "text": [
            "1 apple\n",
            "2 mango\n",
            "3 strawberry\n",
            "4 green apple\n",
            "t 5\n"
          ],
          "name": "stdout"
        }
      ]
    },
    {
      "cell_type": "markdown",
      "metadata": {
        "id": "fJAsYAf8rL6D"
      },
      "source": [
        "<br>\n",
        "This is an example of how to loop through each item in the list."
      ]
    },
    {
      "cell_type": "code",
      "metadata": {
        "id": "CxB80pFGrL6E",
        "colab": {
          "base_uri": "https://localhost:8080/"
        },
        "outputId": "4a383b23-89d9-4f67-88ff-266c644da057"
      },
      "source": [
        "for item in x:\n",
        "    print(item)"
      ],
      "execution_count": null,
      "outputs": [
        {
          "output_type": "stream",
          "text": [
            "1\n",
            "a\n",
            "2\n",
            "b\n",
            "3.3\n"
          ],
          "name": "stdout"
        }
      ]
    },
    {
      "cell_type": "markdown",
      "metadata": {
        "id": "wwTBDqNWrL6K"
      },
      "source": [
        "<br>\n",
        "Or using the indexing operator:"
      ]
    },
    {
      "cell_type": "code",
      "metadata": {
        "id": "-x5F0_57rL6L",
        "colab": {
          "base_uri": "https://localhost:8080/"
        },
        "outputId": "69a34b44-4170-477f-9eed-d7720ecc74b8"
      },
      "source": [
        "i=0\n",
        "while( i != len(x) ):\n",
        "    print(x[i])\n",
        "    i = i + 1"
      ],
      "execution_count": null,
      "outputs": [
        {
          "output_type": "stream",
          "text": [
            "1\n",
            "a\n",
            "2\n",
            "b\n",
            "3.3\n"
          ],
          "name": "stdout"
        }
      ]
    },
    {
      "cell_type": "markdown",
      "metadata": {
        "id": "nT08gekorL6N"
      },
      "source": [
        "<br>\n",
        "Use `+` to concatenate lists."
      ]
    },
    {
      "cell_type": "code",
      "metadata": {
        "id": "aXqOs8FKrL6O"
      },
      "source": [
        "x = [1,2] + [3,4]"
      ],
      "execution_count": null,
      "outputs": []
    },
    {
      "cell_type": "code",
      "metadata": {
        "id": "UGKleJ1PrL6R",
        "colab": {
          "base_uri": "https://localhost:8080/"
        },
        "outputId": "384571b1-51c3-4938-a0f8-0016b08e4a1f"
      },
      "source": [
        "x = [1,2]\n",
        "print(id(x))\n",
        "y = x + [3,4] #This alteration happens in a seperate memory location. \n",
        "print(id(y))"
      ],
      "execution_count": null,
      "outputs": [
        {
          "output_type": "stream",
          "text": [
            "140125243449544\n",
            "140125400038664\n"
          ],
          "name": "stdout"
        }
      ]
    },
    {
      "cell_type": "markdown",
      "metadata": {
        "id": "OPAGeeFgrL6V"
      },
      "source": [
        "<br>\n",
        "Use `*` to repeat lists."
      ]
    },
    {
      "cell_type": "code",
      "metadata": {
        "id": "OSAGPzKQrL6V",
        "colab": {
          "base_uri": "https://localhost:8080/"
        },
        "outputId": "2941f201-dacf-48fa-c418-840df053cc0e"
      },
      "source": [
        "[1]*3"
      ],
      "execution_count": null,
      "outputs": [
        {
          "output_type": "execute_result",
          "data": {
            "text/plain": [
              "[1, 1, 1]"
            ]
          },
          "metadata": {
            "tags": []
          },
          "execution_count": 44
        }
      ]
    },
    {
      "cell_type": "markdown",
      "metadata": {
        "id": "BokCOGf0rL6Y"
      },
      "source": [
        "<br>\n",
        "Use the `in` operator to check if something is inside a list."
      ]
    },
    {
      "cell_type": "code",
      "metadata": {
        "id": "nVE-mLEdrL6Y",
        "colab": {
          "base_uri": "https://localhost:8080/"
        },
        "outputId": "39fd183e-6dfc-4d18-fb91-ce6dfd81d480"
      },
      "source": [
        "1 in [1, 2, 3]"
      ],
      "execution_count": null,
      "outputs": [
        {
          "output_type": "execute_result",
          "data": {
            "text/plain": [
              "True"
            ]
          },
          "metadata": {
            "tags": []
          },
          "execution_count": 45
        }
      ]
    },
    {
      "cell_type": "markdown",
      "metadata": {
        "id": "m2AY70-5rL6b"
      },
      "source": [
        "### String Slicing\n",
        "<br>\n",
        "Now let's look at strings. Use bracket notation to slice a string."
      ]
    },
    {
      "cell_type": "code",
      "metadata": {
        "id": "V3GBJlNQrL6c",
        "colab": {
          "base_uri": "https://localhost:8080/"
        },
        "outputId": "0c909e0b-fdf8-444c-eac1-cd6a3e1a991e"
      },
      "source": [
        "x = 'This is a string'\n",
        "print(x[0]) #first character\n",
        "print(x[0:1]) #[first_element_index_to_include:first_element_index_to_exclude]\n",
        "print(x[0:2]) #[first_element_index_to_include:first_element_index_to_exclude]"
      ],
      "execution_count": null,
      "outputs": [
        {
          "output_type": "stream",
          "text": [
            "T\n",
            "T\n",
            "Th\n"
          ],
          "name": "stdout"
        }
      ]
    },
    {
      "cell_type": "markdown",
      "metadata": {
        "id": "0USNCFuirL6e"
      },
      "source": [
        "<br>\n",
        "This will return the last element of the string."
      ]
    },
    {
      "cell_type": "code",
      "metadata": {
        "id": "i-1AfdvsrL6f",
        "colab": {
          "base_uri": "https://localhost:8080/",
          "height": 36
        },
        "outputId": "76c3caca-285d-4f9a-c582-ddc4ba104aad"
      },
      "source": [
        "x[-1]"
      ],
      "execution_count": null,
      "outputs": [
        {
          "output_type": "execute_result",
          "data": {
            "application/vnd.google.colaboratory.intrinsic+json": {
              "type": "string"
            },
            "text/plain": [
              "'g'"
            ]
          },
          "metadata": {
            "tags": []
          },
          "execution_count": 47
        }
      ]
    },
    {
      "cell_type": "markdown",
      "metadata": {
        "id": "kVNGw1mRrL6h"
      },
      "source": [
        "<br>\n",
        "This will return the slice starting from the 4th element from the end and stopping before the 2nd element from the end."
      ]
    },
    {
      "cell_type": "code",
      "metadata": {
        "id": "bfCLYnyjrL6j",
        "colab": {
          "base_uri": "https://localhost:8080/",
          "height": 36
        },
        "outputId": "a1899d21-8965-45a3-c4a6-b4786926ce72"
      },
      "source": [
        "x[-4:-2]"
      ],
      "execution_count": null,
      "outputs": [
        {
          "output_type": "execute_result",
          "data": {
            "application/vnd.google.colaboratory.intrinsic+json": {
              "type": "string"
            },
            "text/plain": [
              "'ri'"
            ]
          },
          "metadata": {
            "tags": []
          },
          "execution_count": 49
        }
      ]
    },
    {
      "cell_type": "code",
      "metadata": {
        "id": "eQzCezxDrL6m",
        "colab": {
          "base_uri": "https://localhost:8080/",
          "height": 36
        },
        "outputId": "08ac91fb-870c-48f1-dc75-83315154b338"
      },
      "source": [
        "x[-4:-6] #Exclusion rule overrides inclusion. note:step is 1"
      ],
      "execution_count": null,
      "outputs": [
        {
          "output_type": "execute_result",
          "data": {
            "application/vnd.google.colaboratory.intrinsic+json": {
              "type": "string"
            },
            "text/plain": [
              "''"
            ]
          },
          "metadata": {
            "tags": []
          },
          "execution_count": 50
        }
      ]
    },
    {
      "cell_type": "code",
      "metadata": {
        "id": "StE-T9yYrL6o",
        "colab": {
          "base_uri": "https://localhost:8080/",
          "height": 36
        },
        "outputId": "89f7f0b6-220b-47a6-fd05-91207a8979d3"
      },
      "source": [
        "x[-4:-6:-1]"
      ],
      "execution_count": null,
      "outputs": [
        {
          "output_type": "execute_result",
          "data": {
            "application/vnd.google.colaboratory.intrinsic+json": {
              "type": "string"
            },
            "text/plain": [
              "'rt'"
            ]
          },
          "metadata": {
            "tags": []
          },
          "execution_count": 52
        }
      ]
    },
    {
      "cell_type": "code",
      "metadata": {
        "id": "kramNKDprL6q",
        "colab": {
          "base_uri": "https://localhost:8080/",
          "height": 36
        },
        "outputId": "629bce7a-1983-42e5-cc38-00e9eea0af8b"
      },
      "source": [
        "x[-1::-1] #Inverto"
      ],
      "execution_count": null,
      "outputs": [
        {
          "output_type": "execute_result",
          "data": {
            "application/vnd.google.colaboratory.intrinsic+json": {
              "type": "string"
            },
            "text/plain": [
              "'gnirts a si sihT'"
            ]
          },
          "metadata": {
            "tags": []
          },
          "execution_count": 51
        }
      ]
    },
    {
      "cell_type": "markdown",
      "metadata": {
        "id": "TGQ_W9tyrL6t"
      },
      "source": [
        "<br>\n",
        "This is a slice from the beginning of the string and stopping before the 3rd element."
      ]
    },
    {
      "cell_type": "code",
      "metadata": {
        "id": "gqPUrayZrL6t",
        "colab": {
          "base_uri": "https://localhost:8080/",
          "height": 36
        },
        "outputId": "b1d63d67-1c60-4388-c79d-aef817628e55"
      },
      "source": [
        "x[:3]"
      ],
      "execution_count": null,
      "outputs": [
        {
          "output_type": "execute_result",
          "data": {
            "application/vnd.google.colaboratory.intrinsic+json": {
              "type": "string"
            },
            "text/plain": [
              "'Thi'"
            ]
          },
          "metadata": {
            "tags": []
          },
          "execution_count": 53
        }
      ]
    },
    {
      "cell_type": "markdown",
      "metadata": {
        "id": "XKU5a89erL6x"
      },
      "source": [
        "<br>\n",
        "And this is a slice starting from the 3rd element of the string and going all the way to the end."
      ]
    },
    {
      "cell_type": "code",
      "metadata": {
        "id": "J3cHKZEYrL6y",
        "colab": {
          "base_uri": "https://localhost:8080/",
          "height": 36
        },
        "outputId": "d2748fec-659b-41c0-fc05-9c2371f43a80"
      },
      "source": [
        "x[3:]"
      ],
      "execution_count": null,
      "outputs": [
        {
          "output_type": "execute_result",
          "data": {
            "application/vnd.google.colaboratory.intrinsic+json": {
              "type": "string"
            },
            "text/plain": [
              "'s is a string'"
            ]
          },
          "metadata": {
            "tags": []
          },
          "execution_count": 54
        }
      ]
    },
    {
      "cell_type": "code",
      "metadata": {
        "id": "RzX5jfUorL61",
        "outputId": "6aa476a0-f7cc-43b9-e95f-792e36455a84"
      },
      "source": [
        "firstname = 'Christopher'\n",
        "lastname = 'Brooks'\n",
        "\n",
        "print(firstname + ' ' + lastname)\n",
        "print(firstname*3)\n",
        "print('Chris' in firstname)\n"
      ],
      "execution_count": null,
      "outputs": [
        {
          "output_type": "stream",
          "text": [
            "Christopher Brooks\n",
            "ChristopherChristopherChristopher\n",
            "True\n"
          ],
          "name": "stdout"
        }
      ]
    },
    {
      "cell_type": "markdown",
      "metadata": {
        "id": "do01B02xrL67"
      },
      "source": [
        "<br>\n",
        "`split` is a function that returns a list of all the words in a string, or a list split on a specific character."
      ]
    },
    {
      "cell_type": "code",
      "metadata": {
        "id": "AuD9yy6JrL69",
        "outputId": "099d8cea-7721-438d-d041-9acc2f15b20f"
      },
      "source": [
        "firstname = 'Christopher Arthur Hansen Brooks'.split(' ') # [0] selects the first element of the list\n",
        "lastname = 'Christopher Arthur;Hansen Brooks'.split(';') # [-1] selects the last element of the list\n",
        "print(firstname)\n",
        "print(lastname)"
      ],
      "execution_count": null,
      "outputs": [
        {
          "output_type": "stream",
          "text": [
            "['Christopher', 'Arthur', 'Hansen', 'Brooks']\n",
            "['Christopher Arthur', 'Hansen Brooks']\n"
          ],
          "name": "stdout"
        }
      ]
    },
    {
      "cell_type": "markdown",
      "metadata": {
        "id": "eGINXs0WrL6_"
      },
      "source": [
        "<br>\n",
        "Make sure you convert objects to strings before concatenating."
      ]
    },
    {
      "cell_type": "code",
      "metadata": {
        "id": "dk6ktnUPrL7A",
        "outputId": "646184b0-05a7-4c96-8eae-e7f418c939e4"
      },
      "source": [
        "'Chris' + 2"
      ],
      "execution_count": null,
      "outputs": [
        {
          "output_type": "error",
          "ename": "TypeError",
          "evalue": "Can't convert 'int' object to str implicitly",
          "traceback": [
            "\u001b[0;31m---------------------------------------------------------------------------\u001b[0m",
            "\u001b[0;31mTypeError\u001b[0m                                 Traceback (most recent call last)",
            "\u001b[0;32m<ipython-input-48-1623ac76de6e>\u001b[0m in \u001b[0;36m<module>\u001b[0;34m()\u001b[0m\n\u001b[0;32m----> 1\u001b[0;31m \u001b[0;34m'Chris'\u001b[0m \u001b[0;34m+\u001b[0m \u001b[0;36m2\u001b[0m\u001b[0;34m\u001b[0m\u001b[0m\n\u001b[0m",
            "\u001b[0;31mTypeError\u001b[0m: Can't convert 'int' object to str implicitly"
          ]
        }
      ]
    },
    {
      "cell_type": "code",
      "metadata": {
        "id": "qWG75aL6rL7C",
        "outputId": "21b24a67-0b04-4351-fcaa-9402a1e2e4c7"
      },
      "source": [
        "'Chris' + str(2) #or '2'"
      ],
      "execution_count": null,
      "outputs": [
        {
          "output_type": "execute_result",
          "data": {
            "text/plain": [
              "'Chris2'"
            ]
          },
          "metadata": {
            "tags": []
          },
          "execution_count": 49
        }
      ]
    },
    {
      "cell_type": "markdown",
      "metadata": {
        "id": "kyjPFMUprL7H"
      },
      "source": [
        "<br>\n",
        "``Dictionaries`` are too good. More interesting in reading material. Key left, value to the right, Key cant be repeated"
      ]
    },
    {
      "cell_type": "code",
      "metadata": {
        "id": "zJOa0JKmrL7I",
        "outputId": "cf1293e9-e36f-4234-b5ed-e721781447a2"
      },
      "source": [
        "x = {'Christopher Brooks': 'brooksch@umich.edu', 'Bill Gates': 'billg@microsoft.com'}\n",
        "x['Christopher Brooks'] # Retrieve a value by using the indexing operator"
      ],
      "execution_count": null,
      "outputs": [
        {
          "output_type": "execute_result",
          "data": {
            "text/plain": [
              "'brooksch@umich.edu'"
            ]
          },
          "metadata": {
            "tags": []
          },
          "execution_count": 65
        }
      ]
    },
    {
      "cell_type": "code",
      "metadata": {
        "id": "z4JGt3EdrL7L"
      },
      "source": [
        "x['Kevyn Collins-Thompson'] = None #Add a key-value pair\n",
        "x['Kevyn Collins-Thompson']"
      ],
      "execution_count": null,
      "outputs": []
    },
    {
      "cell_type": "markdown",
      "metadata": {
        "id": "yRGyiUperL7N"
      },
      "source": [
        "<br>\n",
        "Iterate over all of the keys:"
      ]
    },
    {
      "cell_type": "code",
      "metadata": {
        "id": "NdbQFEpxrL7N",
        "scrolled": true,
        "outputId": "3b563f97-85bc-4856-efd6-a5e7443a919a"
      },
      "source": [
        "for name in x:\n",
        "    print(x[name])"
      ],
      "execution_count": null,
      "outputs": [
        {
          "output_type": "stream",
          "text": [
            "brooksch@umich.edu\n",
            "billg@microsoft.com\n",
            "None\n"
          ],
          "name": "stdout"
        }
      ]
    },
    {
      "cell_type": "markdown",
      "metadata": {
        "id": "fXn0cH79rL7P"
      },
      "source": [
        "<br>\n",
        "Iterate over all of the values:"
      ]
    },
    {
      "cell_type": "code",
      "metadata": {
        "id": "S0CvG6FOrL7Q",
        "outputId": "3b194662-71c5-492d-a7b6-d2633295d21c"
      },
      "source": [
        "for email in x.values():\n",
        "    print(email)"
      ],
      "execution_count": null,
      "outputs": [
        {
          "output_type": "stream",
          "text": [
            "brooksch@umich.edu\n",
            "billg@microsoft.com\n",
            "None\n"
          ],
          "name": "stdout"
        }
      ]
    },
    {
      "cell_type": "markdown",
      "metadata": {
        "id": "YulQkYM3rL7R"
      },
      "source": [
        "<br>\n",
        "Iterate over all of the items in the list:"
      ]
    },
    {
      "cell_type": "code",
      "metadata": {
        "id": "5A69Y96hrL7S",
        "outputId": "de49b5b9-4cdf-447f-ff8f-3c1fbc360afd"
      },
      "source": [
        "for name, email in x.items(): #returns tuples at each round of loop\n",
        "    print(name)\n",
        "    print(email)"
      ],
      "execution_count": null,
      "outputs": [
        {
          "output_type": "stream",
          "text": [
            "Christopher Brooks\n",
            "brooksch@umich.edu\n",
            "Bill Gates\n",
            "billg@microsoft.com\n",
            "Kevyn Collins-Thompson\n",
            "None\n"
          ],
          "name": "stdout"
        }
      ]
    },
    {
      "cell_type": "markdown",
      "metadata": {
        "id": "BKAhsBSZrL7T"
      },
      "source": [
        "<br>\n",
        "You can unpack a sequence into different variables:"
      ]
    },
    {
      "cell_type": "code",
      "metadata": {
        "id": "L1hIVutJrL7U"
      },
      "source": [
        "x = ('Christopher', 'Brooks', 'brooksch@umich.edu')\n",
        "fname, lname, email = x"
      ],
      "execution_count": null,
      "outputs": []
    },
    {
      "cell_type": "code",
      "metadata": {
        "id": "s6c6tb_6rL7W",
        "outputId": "697bf597-895d-4cde-87ca-5b1d7f6dde26"
      },
      "source": [
        "fname"
      ],
      "execution_count": null,
      "outputs": [
        {
          "output_type": "execute_result",
          "data": {
            "text/plain": [
              "'Christopher'"
            ]
          },
          "metadata": {
            "tags": []
          },
          "execution_count": 72
        }
      ]
    },
    {
      "cell_type": "code",
      "metadata": {
        "id": "kpJ6WQTBrL7Y",
        "outputId": "6bade510-ca54-4c44-8d23-59fe02fdbb63"
      },
      "source": [
        "lname"
      ],
      "execution_count": null,
      "outputs": [
        {
          "output_type": "execute_result",
          "data": {
            "text/plain": [
              "'Brooks'"
            ]
          },
          "metadata": {
            "tags": []
          },
          "execution_count": 73
        }
      ]
    },
    {
      "cell_type": "markdown",
      "metadata": {
        "id": "ayahb7aBrL7b"
      },
      "source": [
        "<br>\n",
        "Make sure the number of values you are unpacking matches the number of variables being assigned."
      ]
    },
    {
      "cell_type": "code",
      "metadata": {
        "id": "PQ_la0CXrL7c",
        "outputId": "3cab09e7-7b54-4bc8-a212-a21eabcaa006"
      },
      "source": [
        "x = ('Christopher', 'Brooks', 'brooksch@umich.edu', 'Ann Arbor')\n",
        "fname, lname, email = x"
      ],
      "execution_count": null,
      "outputs": [
        {
          "output_type": "error",
          "ename": "ValueError",
          "evalue": "too many values to unpack (expected 3)",
          "traceback": [
            "\u001b[0;31m---------------------------------------------------------------------------\u001b[0m",
            "\u001b[0;31mValueError\u001b[0m                                Traceback (most recent call last)",
            "\u001b[0;32m<ipython-input-74-9ce70064f53e>\u001b[0m in \u001b[0;36m<module>\u001b[0;34m()\u001b[0m\n\u001b[1;32m      1\u001b[0m \u001b[0mx\u001b[0m \u001b[0;34m=\u001b[0m \u001b[0;34m(\u001b[0m\u001b[0;34m'Christopher'\u001b[0m\u001b[0;34m,\u001b[0m \u001b[0;34m'Brooks'\u001b[0m\u001b[0;34m,\u001b[0m \u001b[0;34m'brooksch@umich.edu'\u001b[0m\u001b[0;34m,\u001b[0m \u001b[0;34m'Ann Arbor'\u001b[0m\u001b[0;34m)\u001b[0m\u001b[0;34m\u001b[0m\u001b[0m\n\u001b[0;32m----> 2\u001b[0;31m \u001b[0mfname\u001b[0m\u001b[0;34m,\u001b[0m \u001b[0mlname\u001b[0m\u001b[0;34m,\u001b[0m \u001b[0memail\u001b[0m \u001b[0;34m=\u001b[0m \u001b[0mx\u001b[0m\u001b[0;34m\u001b[0m\u001b[0m\n\u001b[0m",
            "\u001b[0;31mValueError\u001b[0m: too many values to unpack (expected 3)"
          ]
        }
      ]
    },
    {
      "cell_type": "markdown",
      "metadata": {
        "id": "SjQSyePzrL76"
      },
      "source": [
        "<br>\n",
        "# The Python Programming Language: Dates and Times"
      ]
    },
    {
      "cell_type": "code",
      "metadata": {
        "id": "Mm3kXm6vrL76"
      },
      "source": [
        "import datetime as dt\n",
        "import time as tm"
      ],
      "execution_count": null,
      "outputs": []
    },
    {
      "cell_type": "markdown",
      "metadata": {
        "id": "o_N5buEVrL77"
      },
      "source": [
        "<br>\n",
        "`time` returns the current time in seconds since the Epoch. (January 1st, 1970)"
      ]
    },
    {
      "cell_type": "code",
      "metadata": {
        "id": "myFP25YrrL78",
        "colab": {
          "base_uri": "https://localhost:8080/"
        },
        "outputId": "e69e18ef-9cc1-41a7-da11-501fefd3615c"
      },
      "source": [
        "tm.time()"
      ],
      "execution_count": null,
      "outputs": [
        {
          "output_type": "execute_result",
          "data": {
            "text/plain": [
              "1611237124.33"
            ]
          },
          "metadata": {
            "tags": []
          },
          "execution_count": 93
        }
      ]
    },
    {
      "cell_type": "markdown",
      "metadata": {
        "id": "hxWy-O4YrL79"
      },
      "source": [
        "<br>\n",
        "Convert the timestamp to datetime."
      ]
    },
    {
      "cell_type": "code",
      "metadata": {
        "id": "kVAaxTlprL7-",
        "outputId": "d29a9889-11b7-44b2-ca0d-8f35c9b4a5c2"
      },
      "source": [
        "dtnow = dt.datetime.fromtimestamp(tm.time())\n",
        "dtnow"
      ],
      "execution_count": null,
      "outputs": [
        {
          "output_type": "execute_result",
          "data": {
            "text/plain": [
              "datetime.datetime(2018, 7, 20, 12, 47, 32, 822517)"
            ]
          },
          "metadata": {
            "tags": []
          },
          "execution_count": 104
        }
      ]
    },
    {
      "cell_type": "code",
      "metadata": {
        "id": "r_9r7jRBrL7_",
        "outputId": "2454978e-b86d-4b9d-9f73-3138b35e6af9"
      },
      "source": [
        "type(dtnow) #Is an object of class datetime"
      ],
      "execution_count": null,
      "outputs": [
        {
          "output_type": "execute_result",
          "data": {
            "text/plain": [
              "datetime.datetime"
            ]
          },
          "metadata": {
            "tags": []
          },
          "execution_count": 105
        }
      ]
    },
    {
      "cell_type": "markdown",
      "metadata": {
        "id": "BS2VAD_2rL8B"
      },
      "source": [
        "<br>\n",
        "Handy datetime attributes:"
      ]
    },
    {
      "cell_type": "code",
      "metadata": {
        "id": "tVVB2dE5rL8C",
        "outputId": "f97de8b8-d9be-4830-e4c4-3e7073a7aa72"
      },
      "source": [
        "dtnow.year, dtnow.month, dtnow.day, dtnow.hour, dtnow.minute, dtnow.second # get year, month, day, etc.from a datetime"
      ],
      "execution_count": null,
      "outputs": [
        {
          "output_type": "execute_result",
          "data": {
            "text/plain": [
              "(2016, 10, 26, 13, 42, 18)"
            ]
          },
          "metadata": {
            "tags": []
          },
          "execution_count": 74
        }
      ]
    },
    {
      "cell_type": "markdown",
      "metadata": {
        "id": "RGs-RwnQrL8D"
      },
      "source": [
        "<br>\n",
        "`timedelta` is a duration expressing the difference between two dates."
      ]
    },
    {
      "cell_type": "code",
      "metadata": {
        "id": "j7ItDX6WrL8E",
        "outputId": "ce7bef3b-b2e9-4a10-a21e-408a8fc11179"
      },
      "source": [
        "delta = dt.timedelta(days = 100) # create a timedelta of 100 days\n",
        "delta"
      ],
      "execution_count": null,
      "outputs": [
        {
          "output_type": "execute_result",
          "data": {
            "text/plain": [
              "datetime.timedelta(100)"
            ]
          },
          "metadata": {
            "tags": []
          },
          "execution_count": 109
        }
      ]
    },
    {
      "cell_type": "markdown",
      "metadata": {
        "id": "4qgE2EgkrL8F"
      },
      "source": [
        "<br>\n",
        "`date.today` returns the current local date."
      ]
    },
    {
      "cell_type": "code",
      "metadata": {
        "id": "9jvUqSn0rL8G",
        "outputId": "8bff80dd-ca4b-4128-adaf-fbbda69db485"
      },
      "source": [
        "today = dt.date.today()\n",
        "today"
      ],
      "execution_count": null,
      "outputs": [
        {
          "output_type": "execute_result",
          "data": {
            "text/plain": [
              "datetime.date(2018, 7, 20)"
            ]
          },
          "metadata": {
            "tags": []
          },
          "execution_count": 110
        }
      ]
    },
    {
      "cell_type": "code",
      "metadata": {
        "id": "AsZKYY0NrL8I",
        "outputId": "979d44ab-5000-496e-a9be-951131432adf"
      },
      "source": [
        "today - delta # the date 100 days ago"
      ],
      "execution_count": null,
      "outputs": [
        {
          "output_type": "execute_result",
          "data": {
            "text/plain": [
              "datetime.date(2018, 4, 11)"
            ]
          },
          "metadata": {
            "tags": []
          },
          "execution_count": 111
        }
      ]
    },
    {
      "cell_type": "code",
      "metadata": {
        "id": "2Wa__JLYrL8K",
        "outputId": "422f02d0-cd50-40ac-a4b9-07bf16eba8fb"
      },
      "source": [
        "today > today-delta # compare dates"
      ],
      "execution_count": null,
      "outputs": [
        {
          "output_type": "execute_result",
          "data": {
            "text/plain": [
              "True"
            ]
          },
          "metadata": {
            "tags": []
          },
          "execution_count": 112
        }
      ]
    },
    {
      "cell_type": "markdown",
      "metadata": {
        "id": "l0I0ANpOrL8L"
      },
      "source": [
        "<br>\n",
        "# The Python Programming Language: Objects and map()"
      ]
    },
    {
      "cell_type": "markdown",
      "metadata": {
        "id": "bP6CSpLdrL8L"
      },
      "source": [
        "<br>\n",
        "An example of a class in python:"
      ]
    },
    {
      "cell_type": "markdown",
      "metadata": {
        "id": "09JJAIYZrL8M"
      },
      "source": [
        "### Python has almost everything as an object. Even functions!!"
      ]
    },
    {
      "cell_type": "code",
      "metadata": {
        "id": "5k2HUDm7rL8M"
      },
      "source": [
        "class Person:\n",
        "    department = 'School of Information' #a class variable(common to all objects of the class Person)\n",
        "    def __init__(self,*args,**kwargs):\n",
        "        pass\n",
        "\n",
        "    def set_name(self, new_name): #a method (function of an object nothing fancy)\n",
        "        self.name = new_name\n",
        "    def set_location(self, new_location):\n",
        "        self.location = new_location"
      ],
      "execution_count": null,
      "outputs": []
    },
    {
      "cell_type": "code",
      "metadata": {
        "id": "DJGmWNzMrL8N"
      },
      "source": [
        "person1 = Person() #Initiaites the init function. With first arguement as itself(person1)"
      ],
      "execution_count": null,
      "outputs": []
    },
    {
      "cell_type": "code",
      "metadata": {
        "id": "BNvBMnE1rL8P",
        "outputId": "0bc29152-cdd4-435d-cb9e-ec67b3042580"
      },
      "source": [
        "person1.set_name('Christopher Brooks')\n",
        "person1.set_location('Ann Arbor, MI, USA')\n",
        "print('{} live in {} and works in the department {}'.format(person1.name, person1.location, person1.department))"
      ],
      "execution_count": null,
      "outputs": [
        {
          "output_type": "stream",
          "text": [
            "Christopher Brooks live in Ann Arbor, MI, USA and works in the department School of Information\n"
          ],
          "name": "stdout"
        }
      ]
    },
    {
      "cell_type": "markdown",
      "metadata": {
        "id": "9qFanPNvrL8Q"
      },
      "source": [
        "<br>\n",
        "Here's an example of mapping the `min` function between two lists."
      ]
    },
    {
      "cell_type": "code",
      "metadata": {
        "id": "HqD2fTRDrL8Q"
      },
      "source": [
        "??map"
      ],
      "execution_count": null,
      "outputs": []
    },
    {
      "cell_type": "code",
      "metadata": {
        "id": "KVeici6WrL8R",
        "outputId": "cb0528d6-1afe-4bfb-db97-c2d5cb13253b"
      },
      "source": [
        "store1 = [10.00, 11.00, 12.34, 2.34]\n",
        "store2 = [9.00, 11.10, 12.34, 2.01]\n",
        "cheapest = map(min, store1, store2)\n",
        "cheapest #Returns object of class map, is iteratable"
      ],
      "execution_count": null,
      "outputs": [
        {
          "output_type": "execute_result",
          "data": {
            "text/plain": [
              "<map at 0x7fa8df53ffd0>"
            ]
          },
          "metadata": {
            "tags": []
          },
          "execution_count": 81
        }
      ]
    },
    {
      "cell_type": "markdown",
      "metadata": {
        "id": "aGlZZDBMrL8T"
      },
      "source": [
        "<br>\n",
        "Now let's iterate through the map object to see the values."
      ]
    },
    {
      "cell_type": "code",
      "metadata": {
        "id": "BBUEDBggrL8V",
        "scrolled": true,
        "outputId": "09c9c8ae-41fe-43ef-816f-2345c02f8d26"
      },
      "source": [
        "for item in cheapest:\n",
        "    print(item)"
      ],
      "execution_count": null,
      "outputs": [
        {
          "output_type": "stream",
          "text": [
            "9.0\n",
            "11.0\n",
            "12.34\n",
            "2.01\n"
          ],
          "name": "stdout"
        }
      ]
    },
    {
      "cell_type": "markdown",
      "metadata": {
        "id": "VbCrAb3TrL8X"
      },
      "source": [
        "<br>\n",
        "# The Python Programming Language: Lambda and List Comprehensions"
      ]
    },
    {
      "cell_type": "markdown",
      "metadata": {
        "id": "Gmud83STrL8X"
      },
      "source": [
        "<br>\n",
        "Here's an example of lambda that takes in three parameters and adds the first two."
      ]
    },
    {
      "cell_type": "code",
      "metadata": {
        "collapsed": true,
        "id": "m-6VM_WyrL8Y"
      },
      "source": [
        "my_function = lambda a, b, c : a + b #Function with name lamda taking arguement a,b,c returning a + b"
      ],
      "execution_count": null,
      "outputs": []
    },
    {
      "cell_type": "markdown",
      "metadata": {
        "id": "1ruvJRrGrL8a"
      },
      "source": [
        "### Why use lambda?? Short , Crisp and Very handy when dealing with data wrangling when we need to perform real simple and quick tasks. You'll get used to it"
      ]
    },
    {
      "cell_type": "code",
      "metadata": {
        "id": "LmTe-CJlrL8a",
        "outputId": "01effbfb-9e3b-4c18-926f-7dc7316912c5"
      },
      "source": [
        "my_function(1, 2, 3) #Calling the function"
      ],
      "execution_count": null,
      "outputs": [
        {
          "output_type": "execute_result",
          "data": {
            "text/plain": [
              "3"
            ]
          },
          "metadata": {
            "tags": []
          },
          "execution_count": 84
        }
      ]
    }
  ]
}